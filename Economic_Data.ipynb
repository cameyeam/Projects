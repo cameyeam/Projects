{
  "nbformat": 4,
  "nbformat_minor": 0,
  "metadata": {
    "colab": {
      "provenance": [],
      "authorship_tag": "ABX9TyNFPXsLVTxCZpVoy4TVJ2fe",
      "include_colab_link": true
    },
    "kernelspec": {
      "name": "python3",
      "display_name": "Python 3"
    },
    "language_info": {
      "name": "python"
    }
  },
  "cells": [
    {
      "cell_type": "markdown",
      "metadata": {
        "id": "view-in-github",
        "colab_type": "text"
      },
      "source": [
        "<a href=\"https://colab.research.google.com/github/cameyeam/Projects/blob/main/Economic_Data.ipynb\" target=\"_parent\"><img src=\"https://colab.research.google.com/assets/colab-badge.svg\" alt=\"Open In Colab\"/></a>"
      ]
    },
    {
      "cell_type": "code",
      "source": [
        "pip intstall fredapi > /dev/null"
      ],
      "metadata": {
        "id": "fLd0o8OX_km_"
      },
      "execution_count": null,
      "outputs": []
    },
    {
      "cell_type": "code",
      "execution_count": null,
      "metadata": {
        "id": "b0TJ9rhQ_OLe"
      },
      "outputs": [],
      "source": [
        "import pandas as pd\n",
        "import numpy as np\n",
        "import matplotlib.pyplot as plt\n",
        "import plotly.express as px\n",
        "\n",
        "plt.style.us('fivethirtyeight')\n",
        "pd.set_option('max_clumn', 500)\n",
        "color_pal = plt.rcParams[\"axes.prop_cycle\"].by_key\n",
        "\n",
        "from fredapi import Fred\n",
        "\n",
        "fred_key = 'put_api_key_here'\n"
      ]
    },
    {
      "cell_type": "markdown",
      "source": [
        "1. Create the Fred Object"
      ],
      "metadata": {
        "id": "L5vEq_zlCT17"
      }
    },
    {
      "cell_type": "code",
      "source": [
        "fred = Fred(api_key=fred_key)"
      ],
      "metadata": {
        "id": "RoRjE7BJCBD7"
      },
      "execution_count": null,
      "outputs": []
    },
    {
      "cell_type": "markdown",
      "source": [
        "2. Search for Economic Data"
      ],
      "metadata": {
        "id": "qyw7DaCFCOIT"
      }
    },
    {
      "cell_type": "code",
      "source": [
        "sp_search = fred.search('S&P', order_by='popularity')"
      ],
      "metadata": {
        "id": "QET6LrjKCRV4"
      },
      "execution_count": null,
      "outputs": []
    },
    {
      "cell_type": "markdown",
      "source": [
        "3. Pull Raw Data\n"
      ],
      "metadata": {
        "id": "Q6cmyodhDJjQ"
      }
    },
    {
      "cell_type": "code",
      "source": [
        "sp500 = fred.get_series(series_id='S&P500')"
      ],
      "metadata": {
        "id": "Nhi09P3SCzfT"
      },
      "execution_count": null,
      "outputs": []
    },
    {
      "cell_type": "code",
      "source": [
        "sp500.plot(figsize=(10,5), title='S&P 500', lw=2)"
      ],
      "metadata": {
        "id": "HNyF6N-gDmmD"
      },
      "execution_count": null,
      "outputs": []
    },
    {
      "cell_type": "markdown",
      "source": [
        "4. Pull and Join Multiple Data Series"
      ],
      "metadata": {
        "id": "gJ8a5K99D3L6"
      }
    },
    {
      "cell_type": "code",
      "source": [
        "unemp_results = fred.search('unemployment')"
      ],
      "metadata": {
        "id": "YtvGdGeGD-ZX"
      },
      "execution_count": null,
      "outputs": []
    },
    {
      "cell_type": "code",
      "source": [
        "unrate = fred.ger_series('UNRATE')"
      ],
      "metadata": {
        "id": "TOTROq0NEgCx"
      },
      "execution_count": null,
      "outputs": []
    },
    {
      "cell_type": "code",
      "source": [
        "umemp_df = fred.search('unemployment', filter=('frequency', 'monthly'))"
      ],
      "metadata": {
        "id": "7p7o-FwwEnt2"
      },
      "execution_count": null,
      "outputs": []
    },
    {
      "cell_type": "code",
      "source": [
        "umemp_df = umemp_df.query('seasonal_adjustment == \"Seasonally Adjusted\" and units == \"Percent\"')"
      ],
      "metadata": {
        "id": "_hWK_fXvFUcF"
      },
      "execution_count": null,
      "outputs": []
    },
    {
      "cell_type": "code",
      "source": [
        "part_df = fred.search('participation rate state', filter=('frequency', 'Monthly'))\n",
        "part_df = part_df.query('seasonal_adjustment == \"Seasonally Adjusted\" and units == \"Percent\"')"
      ],
      "metadata": {
        "id": "fk48yjaMNFrd"
      },
      "execution_count": null,
      "outputs": []
    },
    {
      "cell_type": "code",
      "source": [
        "part_id_to_state = part_df['title'].str.replace('Labor Force Participation Rate for ', ''). to_dict()\n",
        "\n",
        "all_results = []\n",
        "\n",
        "for myid in part_df.index:\n",
        "  results = fred.get_series(myid)\n",
        "  results = results.to_frame(name=myid)\n",
        "  all_results.append(results)\n",
        "part_states = pd.concat(all_results, axis=1)\n",
        "part_series.columns =  [part_id_to_state[c] for c in part_states.columns]"
      ],
      "metadata": {
        "id": "BtA_3rFsNhKD"
      },
      "execution_count": null,
      "outputs": []
    },
    {
      "cell_type": "markdown",
      "source": [
        "# Plot Unemployment vs. Participation"
      ],
      "metadata": {
        "id": "yLz_SJFmOUU3"
      }
    },
    {
      "cell_type": "code",
      "source": [
        "fig, axs = plt.subplots()\n",
        "axs = axs.flatten()\n",
        "ax2 = ax.twinx()\n",
        "uemp_states.query('index >= 2020 and index < 2022')['New York'].plot(ax=ax, label='Unemployment')\n",
        "part_states.query('index >= 2020 and index < 2022')['New York'].plot(ax=ax, label='Participation', color=color_pal[1])\n",
        "ax2.grid(False)\n",
        "ax.set_title('New York')"
      ],
      "metadata": {
        "id": "Cb6FGPpPOYBV"
      },
      "execution_count": null,
      "outputs": []
    },
    {
      "cell_type": "code",
      "source": [],
      "metadata": {
        "id": "xBcC0RGwNwrS"
      },
      "execution_count": null,
      "outputs": []
    }
  ]
}